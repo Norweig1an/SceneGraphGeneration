{
 "cells": [
  {
   "cell_type": "code",
   "execution_count": 1,
   "metadata": {},
   "outputs": [
    {
     "name": "stdout",
     "output_type": "stream",
     "text": [
      "torch version 1.5.0\n",
      "gitcommit 723d7ef\n"
     ]
    }
   ],
   "source": [
    "import matplotlib.pyplot as plt\n",
    "import copy\n",
    "import numpy as np\n",
    "import torch\n",
    "import cv2\n",
    "import os\n",
    "import subprocess\n",
    "from dataloaders.visual_genome import VGDataLoader\n",
    "from augment.sg_perturb import SceneGraphPerturb\n",
    "from augment.bert import BERT\n",
    "from lib.visualize import * \n",
    "from lib.pytorch_misc import set_seed\n",
    "from lib.word_vectors import obj_edge_vectors\n",
    "import seaborn as sns\n",
    "sns.set(color_codes=True)\n",
    "colors = plt.rcParams['axes.prop_cycle'].by_key()['color']\n",
    "\n",
    "print('torch version', torch.__version__)\n",
    "print('gitcommit', subprocess.check_output(['git', 'rev-parse', '--short', 'HEAD']).decode('ascii').strip())"
   ]
  },
  {
   "cell_type": "markdown",
   "metadata": {},
   "source": [
    "# Visualize images, their scene graphs and perturbations"
   ]
  },
  {
   "cell_type": "code",
   "execution_count": 3,
   "metadata": {
    "scrolled": true
   },
   "outputs": [
    {
     "name": "stdout",
     "output_type": "stream",
     "text": [
      "\n",
      "Loading the STANFORD split of Visual Genome\n",
      "\n",
      "TRAIN DATASET\n",
      "subj_pred_pairs, pred_obj_pairs 3397 3542\n",
      "57723 images, 405860 triplets (29283 unique triplets)\n",
      "Stats: 670591 objects (min=2.0, max=62.0, mean=11.6, std=5.8), 297318 FG edges (min=1.0, max=44.0, mean=5.2, std=3.8), 9029910 BG edges (156.44 avg), graph density min=0.0, max=100.0, mean=6.5, std=8.2\n",
      "\n",
      "VAL DATASET (ZERO-SHOTS)\n",
      "722 images, 1130 triplets (851 unique triplets)\n",
      "Stats: 10129 objects (min=2.0, max=44.0, mean=14.0, std=7.6), 1026 FG edges (min=1.0, max=7.0, mean=1.4, std=0.9), 173934 BG edges (240.91 avg), graph density min=0.1, max=50.0, mean=2.4, std=5.3\n",
      "\n",
      "VAL DATASET (ALL-SHOTS)\n",
      "5000 images, 33203 triplets (5043 unique triplets)\n",
      "Stats: 62754 objects (min=2.0, max=52.0, mean=12.6, std=7.1), 25727 FG edges (min=1.0, max=31.0, mean=5.1, std=4.4), 976590 BG edges (195.32 avg), graph density min=0.1, max=100.0, mean=6.1, std=8.7\n",
      "\n",
      "TEST DATASET (ZERO SHOTS)\n",
      "4519 images, 7601 triplets (5278 unique triplets)\n",
      "Stats: 65281 objects (min=2.0, max=55.0, mean=14.4, std=7.1), 6762 FG edges (min=1.0, max=12.0, mean=1.5, std=1.0), 1107452 BG edges (245.07 avg), graph density min=0.0, max=50.0, mean=1.9, std=4.3\n",
      "\n",
      "TEST DATASET (10-SHOTS)\n",
      "9602 images, 19077 triplets (7952 unique triplets)\n",
      "Stats: 135722 objects (min=2.0, max=56.0, mean=14.1, std=7.0), 16565 FG edges (min=1.0, max=27.0, mean=1.7, std=1.3), 2246514 BG edges (233.96 avg), graph density min=0.0, max=50.0, mean=2.1, std=4.2\n",
      "\n",
      "TEST DATASET (100-SHOTS)\n",
      "16528 images, 45385 triplets (3647 unique triplets)\n",
      "Stats: 224204 objects (min=2.0, max=58.0, mean=13.6, std=6.7), 37923 FG edges (min=1.0, max=32.0, mean=2.3, std=1.8), 3569324 BG edges (215.96 avg), graph density min=0.0, max=100.0, mean=2.7, std=4.9\n",
      "\n",
      "TEST DATASET (ALL-SHOTS)\n",
      "26446 images, 183642 triplets (17659 unique triplets)\n",
      "Stats: 325570 objects (min=2.0, max=58.0, mean=12.3, std=6.5), 145905 FG edges (min=1.0, max=38.0, mean=5.5, std=4.3), 4806730 BG edges (181.76 avg), graph density min=0.1, max=100.0, mean=6.1, std=7.5\n",
      "initializing Bert bert-base-uncased model with threshold 0.000000\n"
     ]
    }
   ],
   "source": [
    "# Load VG data\n",
    "data_dir = '/scratch/ssd/data'  # root folder where VG and GQA data are located\n",
    "train_loader, eval_loaders = VGDataLoader.splits(data_dir=data_dir,\n",
    "                                                 filter_non_overlap=False,\n",
    "                                                 backbone='vgg16_old')\n",
    "embed_objs = obj_edge_vectors(train_loader.dataset.ind_to_classes,\n",
    "                              wv_dir=train_loader.dataset.root,\n",
    "                              wv_dim=200,\n",
    "                              avg_words=True)[0]\n",
    "embed_objs = embed_objs / torch.norm(embed_objs, 2, dim=1, keepdim=True)\n",
    "bert = BERT(obj_classes=train_loader.dataset.ind_to_classes, \n",
    "            rel_classes=train_loader.dataset.ind_to_predicates, \n",
    "            triplet2str=train_loader.dataset.triplet2str,\n",
    "            device='cpu')"
   ]
  },
  {
   "cell_type": "code",
   "execution_count": null,
   "metadata": {
    "scrolled": true
   },
   "outputs": [
    {
     "name": "stderr",
     "output_type": "stream",
     "text": [
      "/opt/conda/conda-bld/pytorch_1587428270644/work/torch/csrc/utils/python_arg_parser.cpp:756: UserWarning: This overload of nonzero is deprecated:\n",
      "\tnonzero(Tensor input, *, Tensor out)\n",
      "Consider using one of the following signatures instead:\n",
      "\tnonzero(Tensor input, *, bool as_tuple)\n"
     ]
    },
    {
     "name": "stdout",
     "output_type": "stream",
     "text": [
      "100 samples are processed\n",
      "200 samples are processed\n",
      "300 samples are processed\n",
      "400 samples are processed\n",
      "500 samples are processed\n",
      "600 samples are processed\n",
      "700 samples are processed\n",
      "800 samples are processed\n"
     ]
    }
   ],
   "source": [
    "img_list = [2350517, 2343590, 1159620]  # Used in the paper\n",
    "# img_list = [2350517, 2343590, 713077, 713094, 713129, 713166, \n",
    "#            713410, 713467, 713500, 713504, 713581, 713728, 713785, 713835, 1159494, 1159620]  # More images\n",
    "\n",
    "\n",
    "save = False  # save images and their graphs to the folder results\n",
    "results_dir = './results'\n",
    "if save and not os.path.exists(results_dir):\n",
    "    os.mkdir(results_dir)\n",
    "\n",
    "methods = ['rand', 'neigh', 'structn']\n",
    "alphas = [0, 1, 2, 3, 4, 5, 10, 20, 50]\n",
    "hit_rates, bert_scores = {}, {}\n",
    "for split in eval_loaders:\n",
    "    if split.startswith('test'):\n",
    "        hit_rates[split.split('_')[1]] = {}\n",
    "c = 0\n",
    "n_images_max = 1000  # try more images to reduce noise\n",
    "\n",
    "for dataset_ind, dataset in enumerate([train_loader.dataset, eval_loaders['test_alls'].dataset]):\n",
    "    for i, (im_name, gt_classes, gt_rels, boxes) in enumerate(list(zip(dataset.filenames, \n",
    "                                                                   dataset.gt_classes, \n",
    "                                                                   dataset.relationships,\n",
    "                                                                   dataset.gt_boxes))):\n",
    "        name = im_name.split('.')[0]\n",
    "        vis = int(name) in img_list\n",
    "        \n",
    "        if vis:\n",
    "            im_path = os.path.join(dataset.images_dir, im_name)\n",
    "            im = cv2.imread(im_path)\n",
    "            obj_class_names = [dataset.ind_to_classes[cls] for cls in gt_classes]\n",
    "\n",
    "            im = draw_boxes(im[:,:,::-1], obj_class_names, boxes, fontscale=1, rels=None)\n",
    "            if save:\n",
    "                cv2.imwrite('{}/{}.png'.format(results_dir, name), im[:,:,::-1])\n",
    "            plt.figure(figsize=(7,7))\n",
    "            plt.imshow(im)\n",
    "            plt.title((im_path))\n",
    "            plt.grid(False)\n",
    "            plt.axis('off')\n",
    "            plt.show()\n",
    "        \n",
    "            show_nx(gt_classes, boxes, gt_rels, \n",
    "                    train_set=train_loader.dataset, \n",
    "                    test_set=eval_loaders['test_zs'].dataset,\n",
    "                    name='{}/{}_sg'.format(results_dir, name) if save else None,\n",
    "                    fontsize=26)\n",
    "        \n",
    "        if not vis and c >= n_images_max:\n",
    "            continue\n",
    "            \n",
    "        for method in methods:\n",
    "            for split in hit_rates:\n",
    "                if method not in hit_rates[split]:\n",
    "                    hit_rates[split][method] = {}\n",
    "                if method not in bert_scores:\n",
    "                    bert_scores[method] = {}\n",
    "            \n",
    "            topk = 10 if method == 'neigh' else 5\n",
    "            L = 0.5 if vis else 0.2\n",
    "            \n",
    "            for alpha in (alphas if method == 'structn' else alphas[:1]):                \n",
    "                \n",
    "                for split in hit_rates:\n",
    "                    if alpha not in hit_rates[split][method]:\n",
    "                        hit_rates[split][method][alpha] = []\n",
    "                if alpha not in bert_scores[method]:\n",
    "                    bert_scores[method][alpha] = []\n",
    "                                \n",
    "                sgp = SceneGraphPerturb(method=method,\n",
    "                                        embed_objs=embed_objs,\n",
    "                                        subj_pred_obj_pairs=(train_loader.dataset.subj_pred_pairs,\n",
    "                                                             train_loader.dataset.pred_obj_pairs),\n",
    "                                        L=L, \n",
    "                                        topk=topk, \n",
    "                                        alpha=alpha)\n",
    "                \n",
    "                for it in range(5 if vis else 1):  # perturb the same graph several times to check diversity\n",
    "                    \n",
    "                    if vis:\n",
    "                        set_seed(it)  # fix to generate the same perturbations                    \n",
    "                        print('Image={}, Perturbation={}({}), Seed={}'.format(name, method.upper(), alpha, it))\n",
    "                    \n",
    "                    gt_cls_pert = sgp.perturb(torch.cat((torch.zeros(len(gt_classes), 1).long(), torch.from_numpy(gt_classes).view(-1, 1)), 1),\n",
    "                                              torch.cat((torch.zeros(len(gt_rels), 1).long(), torch.from_numpy(gt_rels).view(-1, 3)), 1))[:, 1].data.numpy()\n",
    "                    perturbed_nodes = np.where(gt_classes != gt_cls_pert)[0]\n",
    "                    \n",
    "                    if dataset_ind == 0 and c < n_images_max:\n",
    "                        # Compute hit rates only for training inputs\n",
    "                        c_hit = {split: 0 for split in hit_rates}\n",
    "                        bert_score = []\n",
    "                        for node in perturbed_nodes:\n",
    "                            for node1, node2, R in gt_rels:\n",
    "                                if node in [node1, node2]:\n",
    "                                    tri = '{}_{}_{}'.format(gt_cls_pert[node1], R, gt_cls_pert[node2])\n",
    "                                    for split in hit_rates:\n",
    "                                        if tri in eval_loaders['test_%s' % split].dataset.triplet_counts:\n",
    "                                            c_hit[split] += 1\n",
    "                                    bert_score.append(bert.bert_score_triplet(tri, gt_cls_pert, gt_rels, \n",
    "                                                                              node == node1, verbose=False))\n",
    "                                    \n",
    "                                    \n",
    "\n",
    "                        if len(bert_score) > 0:\n",
    "                            for split in hit_rates:\n",
    "                                hit_rates[split][method][alpha].append(c_hit[split] / len(bert_score))\n",
    "                            bert_scores[method][alpha].append(np.mean(bert_score))\n",
    "\n",
    "                    if vis:    \n",
    "                        show_nx(gt_cls_pert, boxes, gt_rels, \n",
    "                                train_set=train_loader.dataset, \n",
    "                                test_set=eval_loaders['test_zs'].dataset,\n",
    "                                perturbed_nodes=perturbed_nodes, \n",
    "                                obj_names_orig=obj_class_names,\n",
    "                                name='{}/{}_{}_L{}_topk{}_a{}_sg_{}'.format(\n",
    "                                    results_dir, name, method, L, topk, alpha, it).replace('.', '_') \n",
    "                                if save else None, fontsize=26)\n",
    "\n",
    "        c += 1\n",
    "        if c % 100 == 0 and c > 0:\n",
    "            print('%d samples are processed' % c)\n",
    "print('done!')            "
   ]
  },
  {
   "cell_type": "markdown",
   "metadata": {},
   "source": [
    "## Generate \"Hit rate versus $\\alpha$\" plots similar to Figure 3 in the paper"
   ]
  },
  {
   "cell_type": "code",
   "execution_count": 7,
   "metadata": {},
   "outputs": [
    {
     "data": {
      "image/png": "[encoded data removed]",
      "text/plain": [
       "<Figure size 1296x216 with 4 Axes>"
      ]
     },
     "metadata": {
      "needs_background": "light"
     },
     "output_type": "display_data"
    }
   ],
   "source": [
    "fig = plt.figure(figsize=(18, 3))\n",
    "\n",
    "for split_id, split in enumerate(hit_rates):\n",
    "    fig.add_subplot(1, 4, split_id + 1)\n",
    "    for method in hit_rates[split]:\n",
    "        y = []\n",
    "        for alpha in alphas:\n",
    "            if alpha not in hit_rates[split][method]:\n",
    "                assert len(hit_rates[split][method]) == 1, list(hit_rates[split][method].keys())\n",
    "                y.append(np.mean(hit_rates[split][method][alphas[0]]))\n",
    "            else:\n",
    "                y.append(np.mean(hit_rates[split][method][alpha]))\n",
    "        \n",
    "        plt.plot(alphas, np.array(y) * 100, \n",
    "                 '--' if method == 'neigh' else ('-o' if method == 'structn' else '-'), \n",
    "                 lw=4, \n",
    "                 color=colors[0 if method == 'neigh' else (1 if method == 'rand' else 3)], \n",
    "                 ms=8,\n",
    "                 label=method)\n",
    "    \n",
    "    plt.title(split, fontsize=20)\n",
    "    plt.xlabel(r'Threshold parameter $\\alpha$', fontsize=18)\n",
    "    \n",
    "    if split_id == 0:\n",
    "        plt.legend(fontsize=14)\n",
    "        plt.ylabel('Hit rate (%)', fontsize=18)\n",
    "    \n",
    "    plt.grid(True)\n",
    "plt.show()"
   ]
  },
  {
   "cell_type": "markdown",
   "metadata": {},
   "source": [
    "## Generate \"BERT score versus $\\alpha$\" plots similar to Figure 9 in the paper"
   ]
  },
  {
   "cell_type": "code",
   "execution_count": 9,
   "metadata": {},
   "outputs": [
    {
     "data": {
      "image/png": "[encoded data removed]",
      "text/plain": [
       "<Figure size 432x288 with 1 Axes>"
      ]
     },
     "metadata": {
      "needs_background": "light"
     },
     "output_type": "display_data"
    }
   ],
   "source": [
    "for method in bert_scores:\n",
    "    y = []\n",
    "    for alpha in alphas:\n",
    "        if alpha not in hit_rates[split][method]:\n",
    "            assert len(bert_scores[method]) == 1, list(bert_scores[method].keys())\n",
    "            y.append(np.mean(bert_scores[method][alphas[0]]))\n",
    "        else:\n",
    "            y.append(np.mean(bert_scores[method][alpha]))\n",
    "    plt.plot(alphas, y, lw=4, label=method)\n",
    "\n",
    "plt.xlabel(r'Threshold parameter $\\alpha$', fontsize=18)\n",
    "plt.ylabel('BERT score', fontsize=18)\n",
    "plt.legend(fontsize=14)    \n",
    "plt.grid(True)\n",
    "plt.show()    "
   ]
  },
  {
   "cell_type": "code",
   "execution_count": 10,
   "metadata": {},
   "outputs": [
    {
     "name": "stdout",
     "output_type": "stream",
     "text": [
      "done\n"
     ]
    }
   ],
   "source": [
    "print('done')"
   ]
  },
  {
   "cell_type": "code",
   "execution_count": null,
   "metadata": {},
   "outputs": [],
   "source": []
  }
 ],
 "metadata": {
  "kernelspec": {
   "display_name": "Python [conda env:py3]",
   "language": "python",
   "name": "conda-env-py3-py"
  },
  "language_info": {
   "codemirror_mode": {
    "name": "ipython",
    "version": 3
   },
   "file_extension": ".py",
   "mimetype": "text/x-python",
   "name": "python",
   "nbconvert_exporter": "python",
   "pygments_lexer": "ipython3",
   "version": "3.6.8"
  }
 },
 "nbformat": 4,
 "nbformat_minor": 2
}
